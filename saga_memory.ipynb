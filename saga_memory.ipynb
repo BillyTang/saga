{
 "cells": [
  {
   "cell_type": "markdown",
   "metadata": {},
   "source": [
    "# Memory-efficient SAGA"
   ]
  },
  {
   "cell_type": "code",
   "execution_count": 10,
   "metadata": {
    "collapsed": false
   },
   "outputs": [],
   "source": [
    "import pyximport; pyximport.install()\n",
    "# import saga\n",
    "\n",
    "import numpy as np\n",
    "import scipy.sparse as sparse\n",
    "import sklearn.linear_model, sklearn.metrics\n",
    "import matplotlib.pyplot as plt\n",
    "import time\n",
    "\n",
    "%matplotlib inline"
   ]
  },
  {
   "cell_type": "markdown",
   "metadata": {},
   "source": [
    "## Data\n",
    "\n",
    "Problem: Prediction of the release year of a song from audio features. Songs are mostly western, commercial tracks ranging from 1922 to 2011, with a peak in the year 2000s.\n",
    "\n",
    "* Dataset can be downloaded at https://archive.ics.uci.edu/ml/datasets/YearPredictionMSD.\n",
    "* 90 audio attributes: 12 = timbre average, 78 = timbre covariance\n",
    "    * Features extracted from the 'timbre' features from The Echo Nest API. We take the average and covariance over all 'segments', each segment being described by a 12-dimensional timbre vector.\n",
    "* The first value is the year (target), ranging from 1922 to 2011. \n",
    "* train: first 463,715 examples, test: last 51,630 examples\n",
    "    * It avoids the 'producer effect' by making sure no song from a given artist ends up in both the train and test set."
   ]
  },
  {
   "cell_type": "code",
   "execution_count": 11,
   "metadata": {
    "collapsed": false
   },
   "outputs": [
    {
     "ename": "FileNotFoundError",
     "evalue": "[Errno 2] No such file or directory: 'YearPredictionMSD.txt'",
     "output_type": "error",
     "traceback": [
      "\u001b[1;31m\u001b[0m",
      "\u001b[1;31mFileNotFoundError\u001b[0mTraceback (most recent call last)",
      "\u001b[1;32m<ipython-input-11-4879e35aafd9>\u001b[0m in \u001b[0;36m<module>\u001b[1;34m()\u001b[0m\n\u001b[1;32m----> 1\u001b[1;33m \u001b[0mdata\u001b[0m \u001b[1;33m=\u001b[0m \u001b[0mnp\u001b[0m\u001b[1;33m.\u001b[0m\u001b[0mloadtxt\u001b[0m\u001b[1;33m(\u001b[0m\u001b[1;34m'YearPredictionMSD.txt'\u001b[0m\u001b[1;33m,\u001b[0m \u001b[0mdelimiter\u001b[0m\u001b[1;33m=\u001b[0m\u001b[1;34m','\u001b[0m\u001b[1;33m)\u001b[0m\u001b[1;33m\u001b[0m\u001b[0m\n\u001b[0m",
      "\u001b[1;32mC:\\Users\\shafieez\\AppData\\Local\\Continuum\\Anaconda2\\envs\\py35\\lib\\site-packages\\numpy\\lib\\npyio.py\u001b[0m in \u001b[0;36mloadtxt\u001b[1;34m(fname, dtype, comments, delimiter, converters, skiprows, usecols, unpack, ndmin)\u001b[0m\n\u001b[0;32m    803\u001b[0m                 \u001b[0mfh\u001b[0m \u001b[1;33m=\u001b[0m \u001b[0miter\u001b[0m\u001b[1;33m(\u001b[0m\u001b[0mopen\u001b[0m\u001b[1;33m(\u001b[0m\u001b[0mfname\u001b[0m\u001b[1;33m,\u001b[0m \u001b[1;34m'U'\u001b[0m\u001b[1;33m)\u001b[0m\u001b[1;33m)\u001b[0m\u001b[1;33m\u001b[0m\u001b[0m\n\u001b[0;32m    804\u001b[0m             \u001b[1;32melse\u001b[0m\u001b[1;33m:\u001b[0m\u001b[1;33m\u001b[0m\u001b[0m\n\u001b[1;32m--> 805\u001b[1;33m                 \u001b[0mfh\u001b[0m \u001b[1;33m=\u001b[0m \u001b[0miter\u001b[0m\u001b[1;33m(\u001b[0m\u001b[0mopen\u001b[0m\u001b[1;33m(\u001b[0m\u001b[0mfname\u001b[0m\u001b[1;33m)\u001b[0m\u001b[1;33m)\u001b[0m\u001b[1;33m\u001b[0m\u001b[0m\n\u001b[0m\u001b[0;32m    806\u001b[0m         \u001b[1;32melse\u001b[0m\u001b[1;33m:\u001b[0m\u001b[1;33m\u001b[0m\u001b[0m\n\u001b[0;32m    807\u001b[0m             \u001b[0mfh\u001b[0m \u001b[1;33m=\u001b[0m \u001b[0miter\u001b[0m\u001b[1;33m(\u001b[0m\u001b[0mfname\u001b[0m\u001b[1;33m)\u001b[0m\u001b[1;33m\u001b[0m\u001b[0m\n",
      "\u001b[1;31mFileNotFoundError\u001b[0m: [Errno 2] No such file or directory: 'YearPredictionMSD.txt'"
     ]
    }
   ],
   "source": [
    "data = np.loadtxt('YearPredictionMSD.txt', delimiter=',')"
   ]
  },
  {
   "cell_type": "code",
   "execution_count": null,
   "metadata": {
    "collapsed": false
   },
   "outputs": [],
   "source": [
    "# Song release year.\n",
    "train_target = data[:463715,0]  #.astype(np.int32)\n",
    "test_target  = data[463715:,0]  #.astype(np.int32)\n",
    "assert test_target.shape == (51630,)\n",
    "\n",
    "# Audio features.\n",
    "train_data = data[:463715,1:]\n",
    "test_data  = data[463715:,1:]\n",
    "assert train_data.shape == (463715,90)\n",
    "assert test_data.shape == (51630,90)\n",
    "\n",
    "# Subset for fast testing purpose.\n",
    "n = 10000\n",
    "train_data = data[:n,1:]\n",
    "train_target = data[:n,0]  #.astype(np.int32)\n",
    "\n",
    "# Normalize so as to do not need an intercept.\n",
    "intercept = train_target.mean()\n",
    "data_mean = train_data.mean(axis=0)\n",
    "train_target = train_target - intercept\n",
    "test_target = test_target - intercept\n",
    "train_data = train_data - data_mean\n",
    "test_data = test_data - data_mean"
   ]
  },
  {
   "cell_type": "markdown",
   "metadata": {},
   "source": [
    "## Linear regression with scikit-learn\n",
    "\n",
    "Sanity check of the performance of a linear classifier."
   ]
  },
  {
   "cell_type": "code",
   "execution_count": null,
   "metadata": {
    "collapsed": false
   },
   "outputs": [],
   "source": [
    "cls = sklearn.linear_model.LinearRegression(fit_intercept=True)\n",
    "cls.fit(train_data, train_target)\n",
    "assert cls.intercept_ < 1e-10\n",
    "\n",
    "def score(x, dataset, n_plot=2000):\n",
    "    A = eval('{}_data'.format(dataset))\n",
    "    y = eval('{}_target'.format(dataset)) + intercept\n",
    "    pred = A.dot(x) + intercept\n",
    "    score = sklearn.metrics.r2_score(y, pred)\n",
    "    print('R^2 score on {} set: {:.4f}'.format(dataset, score))\n",
    "    \n",
    "    if n_plot > 0:\n",
    "        plt.figure(figsize=(17,5))\n",
    "        plt.plot(pred[:n_plot], '.', label='predicted')\n",
    "        plt.plot(y[:n_plot], '.', label='ground truth')\n",
    "        plt.title(dataset)\n",
    "        plt.xlabel('sample')\n",
    "        plt.ylabel('release year')\n",
    "        plt.legend()\n",
    "score(cls.coef_, 'train')\n",
    "score(cls.coef_, 'test')"
   ]
  },
  {
   "cell_type": "markdown",
   "metadata": {},
   "source": [
    "## SAGA\n",
    "\n",
    "* Cython code from the authors."
   ]
  },
  {
   "cell_type": "code",
   "execution_count": null,
   "metadata": {
    "collapsed": false
   },
   "outputs": [],
   "source": [
    "def saga_authors(A, y, maxiter, gamma, reg=0):\n",
    "    \"\"\"\n",
    "    Solve min_x ||Ax - b||_2^2 reg*||x||_2^2\n",
    "    \n",
    "    Parameters:\n",
    "        gamma: step size or learning rate\n",
    "        reg:   amount of L2 regularization\n",
    "    \"\"\"\n",
    "    tstart = time.process_time()\n",
    "    \n",
    "    # Proper data type.\n",
    "    A = sparse.csc_matrix(A)\n",
    "    A.indices = A.indices.astype(np.int64)\n",
    "    A.indptr = A.indptr.astype(np.int64)\n",
    "    y = y.astype(np.float64)\n",
    "    \n",
    "    # Algorithm.\n",
    "    props = {'eta': 1 / gamma, 'reg': reg}\n",
    "    x = saga.saga_lstsq(A, y, maxiter, props)\n",
    "    \n",
    "    print('Elapsed time: {:.2f}s'.format(time.process_time() - tstart))\n",
    "    return x"
   ]
  },
  {
   "cell_type": "code",
   "execution_count": null,
   "metadata": {
    "collapsed": false
   },
   "outputs": [],
   "source": [
    "n = 100\n",
    "A = sparse.identity(n)\n",
    "y = np.arange(n)\n",
    "\n",
    "# eta is the inverse step size\n",
    "\n",
    "x = saga_authors(A, y, maxiter=1000, gamma=0.1, reg=0)\n",
    "assert np.all(np.abs(x - y) < 1e-10)"
   ]
  },
  {
   "cell_type": "markdown",
   "metadata": {},
   "source": [
    "## Linear regression with SAGA"
   ]
  },
  {
   "cell_type": "code",
   "execution_count": null,
   "metadata": {
    "collapsed": false
   },
   "outputs": [],
   "source": [
    "x = saga_authors(train_data.T, train_target, maxiter=1000, gamma=1e-9, reg=0)\n",
    "score(x, 'train')\n",
    "score(x, 'test')"
   ]
  }
 ],
 "metadata": {
  "kernelspec": {
   "display_name": "Python 3",
   "language": "python",
   "name": "python3"
  },
  "language_info": {
   "codemirror_mode": {
    "name": "ipython",
    "version": 3
   },
   "file_extension": ".py",
   "mimetype": "text/x-python",
   "name": "python",
   "nbconvert_exporter": "python",
   "pygments_lexer": "ipython3",
   "version": "3.5.1"
  }
 },
 "nbformat": 4,
 "nbformat_minor": 0
}
