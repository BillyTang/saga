{
 "cells": [
  {
   "cell_type": "code",
   "execution_count": 33,
   "metadata": {
    "collapsed": false
   },
   "outputs": [],
   "source": [
    "import numpy as np\n",
    "import time\n",
    "import matplotlib.pyplot as plt\n",
    "%matplotlib inline"
   ]
  },
  {
   "cell_type": "code",
   "execution_count": 34,
   "metadata": {
    "collapsed": false
   },
   "outputs": [
    {
     "data": {
      "text/plain": [
       "array([1, 1])"
      ]
     },
     "execution_count": 34,
     "metadata": {},
     "output_type": "execute_result"
    }
   ],
   "source": [
    "info = dict()\n",
    "info['iter_time'] = []\n",
    "a = 1\n",
    "info['iter_time'].append(a)\n",
    "b = 4\n",
    "info['iter_time'].append(b)\n",
    "try:    x = parameter['x0']\n",
    "except: x = np.zeros(10)\n",
    "x = range(0,10)\n",
    "x = np.array([1,2,3])\n",
    "y = np.kron(np.ones((5,1)), x)\n",
    "tmp = np.array([[4,5],[6,7]])\n",
    "y[1:3,1:3] = tmp.T\n",
    "a =np.abs(np.array([1,2])-np.array([2,1]))\n",
    "a"
   ]
  },
  {
   "cell_type": "code",
   "execution_count": 82,
   "metadata": {
    "collapsed": false
   },
   "outputs": [],
   "source": [
    "def SAGA(A, b, fx, gradf, prox, parameter):\n",
    "    # Parameter setting\n",
    "    n            = A.shape[0]                       # Number of observations\n",
    "    d            = A.shape[1]                       # Decision variable dimension\n",
    "    epoch_max    = parameter['epoch_max']           # Max epoch number\n",
    "    gamma        = parameter['gamma']               # Learning rate\n",
    "    tol          = parameter['tol']                 # convergence tolerance\n",
    "    try:    \n",
    "        x        = parameter['x0']                  # Initial condition\n",
    "    except: \n",
    "        x        = np.zeros((d,1))\n",
    "    try:\n",
    "        use_perm = parameter['perm']                # if true use permutation; otherwise use randomization\n",
    "    except:\n",
    "        use_perm = True\n",
    "    # Output initialization    \n",
    "    info              = dict()\n",
    "    iter_time         = list()\n",
    "    fx_all            = list()\n",
    "    # Initialization\n",
    "    g_phi    = np.array([gradf(x,i) for i in range(n)])\n",
    "    g_phi_av = gradf(x) / n\n",
    "    flag     = True\n",
    "    for epoch in range(epoch_max):        \n",
    "        if not flag: break\n",
    "        perm = np.random.permutation(n)\n",
    "        for j in range(n):\n",
    "            t = time.time()\n",
    "            if epoch == 0:\n",
    "                i = j\n",
    "            else:\n",
    "                if use_perm:\n",
    "                    if epoch % 2 == 0:\n",
    "                        i = j \n",
    "                    else:\n",
    "                        i = perm[j]\n",
    "                else:\n",
    "                    i = np.random.randint(0, n)\n",
    "            # Update the next iteration\n",
    "            gx         = gradf(x,i)\n",
    "            w_next     = x - gamma * (gx - g_phi[i,:] + g_phi_av)\n",
    "            g_phi_av   = g_phi_av - g_phi[i,:] / n + gx / n\n",
    "            g_phi[i,:] = gx             \n",
    "            x_next     = prox(w_next, gamma)\n",
    "            # Save information\n",
    "            iter_time.append(time.time() - t)\n",
    "            fx_all.append(fx(x))\n",
    "            print('Suboptimality is ' + str(abs(fx(x)-fx(x_nature)) / fx(x_nature)))\n",
    "            # Check optimality condition\n",
    "            if np.abs(fx(x_next)-fx(x)) <= tol:\n",
    "                flag = False\n",
    "                break\n",
    "            # Prepare the next iteration\n",
    "            x = x_next             \n",
    "    info['epoch'] = epoch\n",
    "    info['iter_time'] = iter_time\n",
    "    info['fx'] = fx_all\n",
    "    return (x, info)"
   ]
  },
  {
   "cell_type": "code",
   "execution_count": 83,
   "metadata": {
    "collapsed": false
   },
   "outputs": [],
   "source": [
    "# Example: Least squares\n",
    "n        = 10000\n",
    "d        = 100\n",
    "A        = np.random.normal(0,1,(n,d))\n",
    "x_nature = np.random.uniform(-1,1,(d,1))\n",
    "b        = np.dot(A,x_nature)\n",
    "b        = b + np.random.normal(0,np.sqrt((np.mean(b)**2 + np.var(b))/1000),(n,1))"
   ]
  },
  {
   "cell_type": "code",
   "execution_count": 84,
   "metadata": {
    "collapsed": true
   },
   "outputs": [],
   "source": [
    "fx    = lambda x: 0.5 * np.sum((np.dot(A,x) - b)**2)\n",
    "gradf = lambda x, i=None : np.dot(A.T, np.dot(A,x) - b) if i == None else A[i,:] * (np.dot(A[i,:],x)-b[i])\n",
    "prox  = lambda x, gamma=None: x"
   ]
  },
  {
   "cell_type": "code",
   "execution_count": 85,
   "metadata": {
    "collapsed": false
   },
   "outputs": [],
   "source": [
    "parameter              = dict()\n",
    "parameter['epoch_max'] = 100\n",
    "w, v                   = np.linalg.eig(np.dot(A.T,A))\n",
    "mu                     = np.min(w)\n",
    "L                      = np.max(w)\n",
    "parameter['gamma']     = 1 / (2*(mu*n+L))\n",
    "parameter['tol']       = 1e-6\n",
    "parameter['x0']        = np.zeros((d,1))\n",
    "parameter['perm']      = True"
   ]
  },
  {
   "cell_type": "code",
   "execution_count": 86,
   "metadata": {
    "collapsed": false
   },
   "outputs": [
    {
     "name": "stdout",
     "output_type": "stream",
     "text": [
      "Suboptimality is 999.03463774\n",
      "Suboptimality is 100002.462543\n",
      "Suboptimality is 100002.461311\n",
      "Suboptimality is 100002.46008\n",
      "Suboptimality is 100002.458849\n",
      "Suboptimality is 100002.457617\n",
      "Suboptimality is 100002.456386\n",
      "Suboptimality is 100002.455155\n",
      "Suboptimality is 100002.453923\n",
      "Suboptimality is 100002.452692\n",
      "Suboptimality is 100002.451461\n",
      "Suboptimality is 100002.450229\n",
      "Suboptimality is 100002.448998\n",
      "Suboptimality is 100002.447766\n",
      "Suboptimality is 100002.446535\n",
      "Suboptimality is 100002.445304\n",
      "Suboptimality is 100002.444072\n",
      "Suboptimality is 100002.442841\n",
      "Suboptimality is 100002.44161\n",
      "Suboptimality is 100002.440378\n",
      "Suboptimality is 100002.439147\n",
      "Suboptimality is 100002.437916\n",
      "Suboptimality is 100002.436684\n",
      "Suboptimality is 100002.435453\n",
      "Suboptimality is 100002.434222\n",
      "Suboptimality is 100002.43299\n",
      "Suboptimality is 100002.431759\n",
      "Suboptimality is 100002.430528\n",
      "Suboptimality is 100002.429296\n",
      "Suboptimality is 100002.428065\n",
      "Suboptimality is 100002.426834\n",
      "Suboptimality is 100002.425602\n",
      "Suboptimality is 100002.424371\n",
      "Suboptimality is 100002.42314\n",
      "Suboptimality is 100002.421908\n",
      "Suboptimality is 100002.420677\n",
      "Suboptimality is 100002.419446\n",
      "Suboptimality is 100002.418214\n",
      "Suboptimality is 100002.416983\n",
      "Suboptimality is 100002.415752\n",
      "Suboptimality is 100002.41452\n",
      "Suboptimality is 100002.413289\n",
      "Suboptimality is 100002.412058\n",
      "Suboptimality is 100002.410826\n",
      "Suboptimality is 100002.409595\n",
      "Suboptimality is 100002.408363\n",
      "Suboptimality is 100002.407132\n",
      "Suboptimality is 100002.405901\n",
      "Suboptimality is 100002.404669\n",
      "Suboptimality is 100002.403438\n",
      "Suboptimality is 100002.402207\n",
      "Suboptimality is 100002.400975\n",
      "Suboptimality is 100002.399744\n",
      "Suboptimality is 100002.398513\n",
      "Suboptimality is 100002.397281\n",
      "Suboptimality is 100002.39605\n",
      "Suboptimality is 100002.394819\n",
      "Suboptimality is 100002.393587\n",
      "Suboptimality is 100002.392356\n",
      "Suboptimality is 100002.391125\n",
      "Suboptimality is 100002.389893\n",
      "Suboptimality is 100002.388662\n",
      "Suboptimality is 100002.387431\n",
      "Suboptimality is 100002.386199\n",
      "Suboptimality is 100002.384968\n",
      "Suboptimality is 100002.383737\n",
      "Suboptimality is 100002.382505\n",
      "Suboptimality is 100002.381274\n",
      "Suboptimality is 100002.380043\n",
      "Suboptimality is 100002.378811\n",
      "Suboptimality is 100002.37758\n",
      "Suboptimality is 100002.376349\n",
      "Suboptimality is 100002.375117\n",
      "Suboptimality is 100002.373886\n",
      "Suboptimality is 100002.372655\n",
      "Suboptimality is 100002.371423\n",
      "Suboptimality is 100002.370192\n",
      "Suboptimality is 100002.36896\n",
      "Suboptimality is 100002.367729\n",
      "Suboptimality is 100002.366498\n",
      "Suboptimality is 100002.365266\n",
      "Suboptimality is 100002.364035\n",
      "Suboptimality is 100002.362804\n",
      "Suboptimality is 100002.361572\n",
      "Suboptimality is 100002.360341\n",
      "Suboptimality is 100002.35911\n",
      "Suboptimality is 100002.357878\n",
      "Suboptimality is 100002.356647\n",
      "Suboptimality is 100002.355416\n",
      "Suboptimality is 100002.354184\n",
      "Suboptimality is 100002.352953\n",
      "Suboptimality is 100002.351722\n",
      "Suboptimality is 100002.35049\n",
      "Suboptimality is 100002.349259\n",
      "Suboptimality is 100002.348028\n",
      "Suboptimality is 100002.346796\n",
      "Suboptimality is 100002.345565\n",
      "Suboptimality is 100002.344334\n",
      "Suboptimality is 100002.343102\n",
      "Suboptimality is 100002.341871\n",
      "Suboptimality is 100002.34064\n",
      "Suboptimality is 100002.339408\n",
      "Suboptimality is 100002.338177\n",
      "Suboptimality is 100002.336946\n",
      "Suboptimality is 100002.335714\n",
      "Suboptimality is 100002.334483\n",
      "Suboptimality is 100002.333252\n",
      "Suboptimality is 100002.33202\n",
      "Suboptimality is 100002.330789\n",
      "Suboptimality is 100002.329557\n",
      "Suboptimality is 100002.328326\n",
      "Suboptimality is 100002.327095\n",
      "Suboptimality is 100002.325863\n",
      "Suboptimality is 100002.324632\n",
      "Suboptimality is 100002.323401\n",
      "Suboptimality is 100002.322169\n",
      "Suboptimality is 100002.320938\n",
      "Suboptimality is 100002.319707\n",
      "Suboptimality is 100002.318475\n",
      "Suboptimality is 100002.317244\n",
      "Suboptimality is 100002.316013\n",
      "Suboptimality is 100002.314781\n",
      "Suboptimality is 100002.31355\n",
      "Suboptimality is 100002.312319\n",
      "Suboptimality is 100002.311087\n",
      "Suboptimality is 100002.309856\n",
      "Suboptimality is 100002.308625\n",
      "Suboptimality is 100002.307393\n",
      "Suboptimality is 100002.306162\n",
      "Suboptimality is 100002.304931\n",
      "Suboptimality is 100002.303699\n",
      "Suboptimality is 100002.302468\n",
      "Suboptimality is 100002.301237\n",
      "Suboptimality is 100002.300005\n",
      "Suboptimality is 100002.298774\n",
      "Suboptimality is 100002.297543\n",
      "Suboptimality is 100002.296311\n",
      "Suboptimality is 100002.29508\n",
      "Suboptimality is 100002.293849\n",
      "Suboptimality is 100002.292617\n",
      "Suboptimality is 100002.291386\n",
      "Suboptimality is 100002.290155\n",
      "Suboptimality is 100002.288923\n",
      "Suboptimality is 100002.287692\n",
      "Suboptimality is 100002.28646\n",
      "Suboptimality is 100002.285229\n"
     ]
    },
    {
     "ename": "KeyboardInterrupt",
     "evalue": "",
     "output_type": "error",
     "traceback": [
      "\u001b[1;31m\u001b[0m",
      "\u001b[1;31mKeyboardInterrupt\u001b[0mTraceback (most recent call last)",
      "\u001b[1;32m<ipython-input-86-02be1b8ced41>\u001b[0m in \u001b[0;36m<module>\u001b[1;34m()\u001b[0m\n\u001b[1;32m----> 1\u001b[1;33m \u001b[0mx\u001b[0m\u001b[1;33m,\u001b[0m \u001b[0minfo\u001b[0m \u001b[1;33m=\u001b[0m \u001b[0mSAGA\u001b[0m\u001b[1;33m(\u001b[0m\u001b[0mA\u001b[0m\u001b[1;33m,\u001b[0m \u001b[0mb\u001b[0m\u001b[1;33m,\u001b[0m \u001b[0mfx\u001b[0m\u001b[1;33m,\u001b[0m \u001b[0mgradf\u001b[0m\u001b[1;33m,\u001b[0m \u001b[0mprox\u001b[0m\u001b[1;33m,\u001b[0m \u001b[0mparameter\u001b[0m\u001b[1;33m)\u001b[0m\u001b[1;33m\u001b[0m\u001b[0m\n\u001b[0m",
      "\u001b[1;32m<ipython-input-82-c659cdd86689>\u001b[0m in \u001b[0;36mSAGA\u001b[1;34m(A, b, fx, gradf, prox, parameter)\u001b[0m\n\u001b[0;32m     48\u001b[0m             \u001b[0mprint\u001b[0m\u001b[1;33m(\u001b[0m\u001b[1;34m'Suboptimality is '\u001b[0m \u001b[1;33m+\u001b[0m \u001b[0mstr\u001b[0m\u001b[1;33m(\u001b[0m\u001b[0mabs\u001b[0m\u001b[1;33m(\u001b[0m\u001b[0mfx\u001b[0m\u001b[1;33m(\u001b[0m\u001b[0mx\u001b[0m\u001b[1;33m)\u001b[0m\u001b[1;33m-\u001b[0m\u001b[0mfx\u001b[0m\u001b[1;33m(\u001b[0m\u001b[0mx_nature\u001b[0m\u001b[1;33m)\u001b[0m\u001b[1;33m)\u001b[0m \u001b[1;33m/\u001b[0m \u001b[0mfx\u001b[0m\u001b[1;33m(\u001b[0m\u001b[0mx_nature\u001b[0m\u001b[1;33m)\u001b[0m\u001b[1;33m)\u001b[0m\u001b[1;33m)\u001b[0m\u001b[1;33m\u001b[0m\u001b[0m\n\u001b[0;32m     49\u001b[0m             \u001b[1;31m# Check optimality condition\u001b[0m\u001b[1;33m\u001b[0m\u001b[1;33m\u001b[0m\u001b[0m\n\u001b[1;32m---> 50\u001b[1;33m             \u001b[1;32mif\u001b[0m \u001b[0mnp\u001b[0m\u001b[1;33m.\u001b[0m\u001b[0mabs\u001b[0m\u001b[1;33m(\u001b[0m\u001b[0mfx\u001b[0m\u001b[1;33m(\u001b[0m\u001b[0mx_next\u001b[0m\u001b[1;33m)\u001b[0m\u001b[1;33m-\u001b[0m\u001b[0mfx\u001b[0m\u001b[1;33m(\u001b[0m\u001b[0mx\u001b[0m\u001b[1;33m)\u001b[0m\u001b[1;33m)\u001b[0m \u001b[1;33m<=\u001b[0m \u001b[0mtol\u001b[0m\u001b[1;33m:\u001b[0m\u001b[1;33m\u001b[0m\u001b[0m\n\u001b[0m\u001b[0;32m     51\u001b[0m                 \u001b[0mflag\u001b[0m \u001b[1;33m=\u001b[0m \u001b[1;32mFalse\u001b[0m\u001b[1;33m\u001b[0m\u001b[0m\n\u001b[0;32m     52\u001b[0m                 \u001b[1;32mbreak\u001b[0m\u001b[1;33m\u001b[0m\u001b[0m\n",
      "\u001b[1;32m<ipython-input-84-f25774e34842>\u001b[0m in \u001b[0;36m<lambda>\u001b[1;34m(x)\u001b[0m\n\u001b[1;32m----> 1\u001b[1;33m \u001b[0mfx\u001b[0m    \u001b[1;33m=\u001b[0m \u001b[1;32mlambda\u001b[0m \u001b[0mx\u001b[0m\u001b[1;33m:\u001b[0m \u001b[1;36m0.5\u001b[0m \u001b[1;33m*\u001b[0m \u001b[0mnp\u001b[0m\u001b[1;33m.\u001b[0m\u001b[0msum\u001b[0m\u001b[1;33m(\u001b[0m\u001b[1;33m(\u001b[0m\u001b[0mnp\u001b[0m\u001b[1;33m.\u001b[0m\u001b[0mdot\u001b[0m\u001b[1;33m(\u001b[0m\u001b[0mA\u001b[0m\u001b[1;33m,\u001b[0m\u001b[0mx\u001b[0m\u001b[1;33m)\u001b[0m \u001b[1;33m-\u001b[0m \u001b[0mb\u001b[0m\u001b[1;33m)\u001b[0m\u001b[1;33m**\u001b[0m\u001b[1;36m2\u001b[0m\u001b[1;33m)\u001b[0m\u001b[1;33m\u001b[0m\u001b[0m\n\u001b[0m\u001b[0;32m      2\u001b[0m \u001b[0mgradf\u001b[0m \u001b[1;33m=\u001b[0m \u001b[1;32mlambda\u001b[0m \u001b[0mx\u001b[0m\u001b[1;33m,\u001b[0m \u001b[0mi\u001b[0m\u001b[1;33m=\u001b[0m\u001b[1;32mNone\u001b[0m \u001b[1;33m:\u001b[0m \u001b[0mnp\u001b[0m\u001b[1;33m.\u001b[0m\u001b[0mdot\u001b[0m\u001b[1;33m(\u001b[0m\u001b[0mA\u001b[0m\u001b[1;33m.\u001b[0m\u001b[0mT\u001b[0m\u001b[1;33m,\u001b[0m \u001b[0mnp\u001b[0m\u001b[1;33m.\u001b[0m\u001b[0mdot\u001b[0m\u001b[1;33m(\u001b[0m\u001b[0mA\u001b[0m\u001b[1;33m,\u001b[0m\u001b[0mx\u001b[0m\u001b[1;33m)\u001b[0m \u001b[1;33m-\u001b[0m \u001b[0mb\u001b[0m\u001b[1;33m)\u001b[0m \u001b[1;32mif\u001b[0m \u001b[0mi\u001b[0m \u001b[1;33m==\u001b[0m \u001b[1;32mNone\u001b[0m \u001b[1;32melse\u001b[0m \u001b[0mA\u001b[0m\u001b[1;33m[\u001b[0m\u001b[0mi\u001b[0m\u001b[1;33m,\u001b[0m\u001b[1;33m:\u001b[0m\u001b[1;33m]\u001b[0m \u001b[1;33m*\u001b[0m \u001b[1;33m(\u001b[0m\u001b[0mnp\u001b[0m\u001b[1;33m.\u001b[0m\u001b[0mdot\u001b[0m\u001b[1;33m(\u001b[0m\u001b[0mA\u001b[0m\u001b[1;33m[\u001b[0m\u001b[0mi\u001b[0m\u001b[1;33m,\u001b[0m\u001b[1;33m:\u001b[0m\u001b[1;33m]\u001b[0m\u001b[1;33m,\u001b[0m\u001b[0mx\u001b[0m\u001b[1;33m)\u001b[0m\u001b[1;33m-\u001b[0m\u001b[0mb\u001b[0m\u001b[1;33m[\u001b[0m\u001b[0mi\u001b[0m\u001b[1;33m]\u001b[0m\u001b[1;33m)\u001b[0m\u001b[1;33m\u001b[0m\u001b[0m\n\u001b[0;32m      3\u001b[0m \u001b[0mprox\u001b[0m  \u001b[1;33m=\u001b[0m \u001b[1;32mlambda\u001b[0m \u001b[0mx\u001b[0m\u001b[1;33m,\u001b[0m \u001b[0mgamma\u001b[0m\u001b[1;33m=\u001b[0m\u001b[1;32mNone\u001b[0m\u001b[1;33m:\u001b[0m \u001b[0mx\u001b[0m\u001b[1;33m\u001b[0m\u001b[0m\n",
      "\u001b[1;31mKeyboardInterrupt\u001b[0m: "
     ]
    }
   ],
   "source": [
    "x, info = SAGA(A, b, fx, gradf, prox, parameter)"
   ]
  },
  {
   "cell_type": "code",
   "execution_count": 68,
   "metadata": {
    "collapsed": true
   },
   "outputs": [],
   "source": [
    "w, v = np.linalg.eig(np.dot(A.T,A))"
   ]
  },
  {
   "cell_type": "code",
   "execution_count": 71,
   "metadata": {
    "collapsed": false
   },
   "outputs": [
    {
     "data": {
      "text/plain": [
       "8120.929012131236"
      ]
     },
     "execution_count": 71,
     "metadata": {},
     "output_type": "execute_result"
    }
   ],
   "source": [
    "np.min(w)"
   ]
  },
  {
   "cell_type": "code",
   "execution_count": 74,
   "metadata": {
    "collapsed": true
   },
   "outputs": [],
   "source": [
    "a = []"
   ]
  },
  {
   "cell_type": "code",
   "execution_count": 78,
   "metadata": {
    "collapsed": true
   },
   "outputs": [],
   "source": [
    "b = np.array([1,2,3])"
   ]
  },
  {
   "cell_type": "code",
   "execution_count": 79,
   "metadata": {
    "collapsed": true
   },
   "outputs": [],
   "source": [
    "a.append(b)"
   ]
  },
  {
   "cell_type": "code",
   "execution_count": 80,
   "metadata": {
    "collapsed": false
   },
   "outputs": [
    {
     "data": {
      "text/plain": [
       "[[1, 2, 3], array([1, 2, 3])]"
      ]
     },
     "execution_count": 80,
     "metadata": {},
     "output_type": "execute_result"
    }
   ],
   "source": [
    "a"
   ]
  },
  {
   "cell_type": "code",
   "execution_count": null,
   "metadata": {
    "collapsed": true
   },
   "outputs": [],
   "source": []
  }
 ],
 "metadata": {
  "kernelspec": {
   "display_name": "Python 3",
   "language": "python",
   "name": "python3"
  },
  "language_info": {
   "codemirror_mode": {
    "name": "ipython",
    "version": 3
   },
   "file_extension": ".py",
   "mimetype": "text/x-python",
   "name": "python",
   "nbconvert_exporter": "python",
   "pygments_lexer": "ipython3",
   "version": "3.5.1"
  }
 },
 "nbformat": 4,
 "nbformat_minor": 0
}
