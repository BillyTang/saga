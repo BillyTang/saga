{
 "cells": [
  {
   "cell_type": "code",
   "execution_count": 1,
   "metadata": {
    "collapsed": false
   },
   "outputs": [],
   "source": [
    "import numpy as np\n",
    "import time\n",
    "import matplotlib.pyplot as plt\n",
    "%matplotlib inline"
   ]
  },
  {
   "cell_type": "code",
   "execution_count": 47,
   "metadata": {
    "collapsed": false
   },
   "outputs": [],
   "source": [
    "def SAGA(A, b, fx, gradf, prox, parameter):\n",
    "    # Parameter setting\n",
    "    n            = A.shape[0]                       # Number of observations\n",
    "    d            = A.shape[1]                       # Decision variable dimension\n",
    "    epoch_max    = parameter['epoch_max']           # Max epoch number\n",
    "    gamma        = parameter['gamma']               # Learning rate\n",
    "    tol          = parameter['tol']                 # convergence tolerance\n",
    "    try:    \n",
    "        x        = parameter['x0']                  # Initial condition\n",
    "    except: \n",
    "        x        = np.zeros((d,1))\n",
    "    try:\n",
    "        use_perm = parameter['perm']                # if true use permutation; otherwise use randomization\n",
    "    except:\n",
    "        use_perm = True\n",
    "    # Output initialization    \n",
    "    info              = dict()\n",
    "    info['iter_time'] = list()\n",
    "    info['fx']        = list()\n",
    "    # Initialization\n",
    "    g_phi    = np.array([gradf(x,i) for i in range(n)])\n",
    "    g_phi_av = gradf(x) / n\n",
    "    flag     = True\n",
    "    for epoch in range(epoch_max):        \n",
    "        if not flag: break\n",
    "        perm = np.random.permutation(n)\n",
    "        for j in range(n):\n",
    "            t = time.time()\n",
    "            if epoch == 0:\n",
    "                i = j\n",
    "            else:\n",
    "                if use_perm:\n",
    "                    if epoch % 2 == 0:\n",
    "                        i = j \n",
    "                    else:\n",
    "                        i = perm[j]\n",
    "                else:\n",
    "                    i = np.random.randint(0, n)\n",
    "            # Update the next iteration\n",
    "            gx         = gradf(x,i)\n",
    "            w_next     = x - gamma * (gx - g_phi[i,:] + g_phi_av)\n",
    "            g_phi_av   = g_phi_av - g_phi[i,:] / n + gx / n\n",
    "            g_phi[i,:] = gx             \n",
    "            x_next     = prox(w_next, gamma)\n",
    "            # Save information\n",
    "            info['iter_time'].append(time.time() - t)\n",
    "            info['fx'].append(fx(x))   \n",
    "            print('Suboptimality is ' + str(abs(fx(x)-fx(x_nature)) ))\n",
    "            # Check optimality condition\n",
    "            if np.abs(fx(x_next)-fx(x)) <= tol:\n",
    "                flag = False\n",
    "                break\n",
    "            # Prepare the next iteration\n",
    "            x = x_next \n",
    "            \n",
    "        \n",
    "    info['epoch'] = epoch\n",
    "    info['iter_time'] = iter_time\n",
    "    info['fx'] = fx_all\n",
    "    return (x, info)"
   ]
  },
  {
   "cell_type": "code",
   "execution_count": 48,
   "metadata": {
    "collapsed": false
   },
   "outputs": [],
   "source": [
    "# Example: Least squares\n",
    "n        = 1000\n",
    "d        = 500\n",
    "A        = np.random.normal(0,1,(n,d))\n",
    "x_nature = np.random.normal(0,1,(d,1))\n",
    "x_nature = x_nature / np.linalg.norm(x_nature,2)\n",
    "b        = np.dot(A,x_nature)\n",
    "# b        = b + np.random.normal(0,np.sqrt((np.mean(b)**2 + np.var(b))/1000),(n,1))"
   ]
  },
  {
   "cell_type": "code",
   "execution_count": 49,
   "metadata": {
    "collapsed": true
   },
   "outputs": [],
   "source": [
    "fx    = lambda x: 0.5 * np.sum((np.dot(A,x) - b)**2)\n",
    "gradf = lambda x, i=None : np.dot(A.T, np.dot(A,x) - b) if i == None else A[i,:] * (np.dot(A[i,:],x)-b[i])\n",
    "prox  = lambda x, gamma=None: x"
   ]
  },
  {
   "cell_type": "code",
   "execution_count": 50,
   "metadata": {
    "collapsed": false
   },
   "outputs": [],
   "source": [
    "parameter              = dict()\n",
    "parameter['epoch_max'] = 100\n",
    "# mu = []\n",
    "# L  = []\n",
    "# for i in range(n):\n",
    "#     w, v= np.linalg.eig(np.dot(A[i,:].T,A[i,:]))\n",
    "#     mu.append(np.min(w))\n",
    "#     L.append(np.max(w))\n",
    "w, v                   = np.linalg.eig(np.dot(A.T,A))\n",
    "mu                     = np.min(w)\n",
    "L                      = np.max(w)\n",
    "parameter['gamma']     = 10 / (2*(mu*n+L))\n",
    "parameter['tol']       = 1e-6\n",
    "parameter['x0']        = np.zeros((d,1))\n",
    "parameter['perm']      = True"
   ]
  },
  {
   "cell_type": "code",
   "execution_count": 51,
   "metadata": {
    "collapsed": false
   },
   "outputs": [
    {
     "name": "stdout",
     "output_type": "stream",
     "text": [
      "Suboptimality is 485.086560973\n",
      "Suboptimality is 242504.419271\n",
      "Suboptimality is 242465.561887\n",
      "Suboptimality is 242426.708019\n",
      "Suboptimality is 242387.858231\n",
      "Suboptimality is 242349.011093\n",
      "Suboptimality is 242310.168682\n",
      "Suboptimality is 242271.330051\n",
      "Suboptimality is 242232.495128\n",
      "Suboptimality is 242193.666527\n",
      "Suboptimality is 242154.840872\n",
      "Suboptimality is 242116.015403\n",
      "Suboptimality is 242077.196189\n",
      "Suboptimality is 242038.381303\n",
      "Suboptimality is 241999.569595\n",
      "Suboptimality is 241960.758324\n",
      "Suboptimality is 241921.961542\n",
      "Suboptimality is 241883.161612\n",
      "Suboptimality is 241844.366287\n",
      "Suboptimality is 241805.571996\n",
      "Suboptimality is 241766.781926\n",
      "Suboptimality is 241727.986909\n",
      "Suboptimality is 241689.20512\n",
      "Suboptimality is 241650.436074\n"
     ]
    },
    {
     "ename": "KeyboardInterrupt",
     "evalue": "",
     "output_type": "error",
     "traceback": [
      "\u001b[1;31m\u001b[0m",
      "\u001b[1;31mKeyboardInterrupt\u001b[0mTraceback (most recent call last)",
      "\u001b[1;32m<ipython-input-51-02be1b8ced41>\u001b[0m in \u001b[0;36m<module>\u001b[1;34m()\u001b[0m\n\u001b[1;32m----> 1\u001b[1;33m \u001b[0mx\u001b[0m\u001b[1;33m,\u001b[0m \u001b[0minfo\u001b[0m \u001b[1;33m=\u001b[0m \u001b[0mSAGA\u001b[0m\u001b[1;33m(\u001b[0m\u001b[0mA\u001b[0m\u001b[1;33m,\u001b[0m \u001b[0mb\u001b[0m\u001b[1;33m,\u001b[0m \u001b[0mfx\u001b[0m\u001b[1;33m,\u001b[0m \u001b[0mgradf\u001b[0m\u001b[1;33m,\u001b[0m \u001b[0mprox\u001b[0m\u001b[1;33m,\u001b[0m \u001b[0mparameter\u001b[0m\u001b[1;33m)\u001b[0m\u001b[1;33m\u001b[0m\u001b[0m\n\u001b[0m",
      "\u001b[1;32m<ipython-input-47-071dc3878118>\u001b[0m in \u001b[0;36mSAGA\u001b[1;34m(A, b, fx, gradf, prox, parameter)\u001b[0m\n\u001b[0;32m     48\u001b[0m             \u001b[0mprint\u001b[0m\u001b[1;33m(\u001b[0m\u001b[1;34m'Suboptimality is '\u001b[0m \u001b[1;33m+\u001b[0m \u001b[0mstr\u001b[0m\u001b[1;33m(\u001b[0m\u001b[0mabs\u001b[0m\u001b[1;33m(\u001b[0m\u001b[0mfx\u001b[0m\u001b[1;33m(\u001b[0m\u001b[0mx\u001b[0m\u001b[1;33m)\u001b[0m\u001b[1;33m-\u001b[0m\u001b[0mfx\u001b[0m\u001b[1;33m(\u001b[0m\u001b[0mx_nature\u001b[0m\u001b[1;33m)\u001b[0m\u001b[1;33m)\u001b[0m \u001b[1;33m)\u001b[0m\u001b[1;33m)\u001b[0m\u001b[1;33m\u001b[0m\u001b[0m\n\u001b[0;32m     49\u001b[0m             \u001b[1;31m# Check optimality condition\u001b[0m\u001b[1;33m\u001b[0m\u001b[1;33m\u001b[0m\u001b[0m\n\u001b[1;32m---> 50\u001b[1;33m             \u001b[1;32mif\u001b[0m \u001b[0mnp\u001b[0m\u001b[1;33m.\u001b[0m\u001b[0mabs\u001b[0m\u001b[1;33m(\u001b[0m\u001b[0mfx\u001b[0m\u001b[1;33m(\u001b[0m\u001b[0mx_next\u001b[0m\u001b[1;33m)\u001b[0m\u001b[1;33m-\u001b[0m\u001b[0mfx\u001b[0m\u001b[1;33m(\u001b[0m\u001b[0mx\u001b[0m\u001b[1;33m)\u001b[0m\u001b[1;33m)\u001b[0m \u001b[1;33m<=\u001b[0m \u001b[0mtol\u001b[0m\u001b[1;33m:\u001b[0m\u001b[1;33m\u001b[0m\u001b[0m\n\u001b[0m\u001b[0;32m     51\u001b[0m                 \u001b[0mflag\u001b[0m \u001b[1;33m=\u001b[0m \u001b[1;32mFalse\u001b[0m\u001b[1;33m\u001b[0m\u001b[0m\n\u001b[0;32m     52\u001b[0m                 \u001b[1;32mbreak\u001b[0m\u001b[1;33m\u001b[0m\u001b[0m\n",
      "\u001b[1;32m<ipython-input-49-f25774e34842>\u001b[0m in \u001b[0;36m<lambda>\u001b[1;34m(x)\u001b[0m\n\u001b[1;32m----> 1\u001b[1;33m \u001b[0mfx\u001b[0m    \u001b[1;33m=\u001b[0m \u001b[1;32mlambda\u001b[0m \u001b[0mx\u001b[0m\u001b[1;33m:\u001b[0m \u001b[1;36m0.5\u001b[0m \u001b[1;33m*\u001b[0m \u001b[0mnp\u001b[0m\u001b[1;33m.\u001b[0m\u001b[0msum\u001b[0m\u001b[1;33m(\u001b[0m\u001b[1;33m(\u001b[0m\u001b[0mnp\u001b[0m\u001b[1;33m.\u001b[0m\u001b[0mdot\u001b[0m\u001b[1;33m(\u001b[0m\u001b[0mA\u001b[0m\u001b[1;33m,\u001b[0m\u001b[0mx\u001b[0m\u001b[1;33m)\u001b[0m \u001b[1;33m-\u001b[0m \u001b[0mb\u001b[0m\u001b[1;33m)\u001b[0m\u001b[1;33m**\u001b[0m\u001b[1;36m2\u001b[0m\u001b[1;33m)\u001b[0m\u001b[1;33m\u001b[0m\u001b[0m\n\u001b[0m\u001b[0;32m      2\u001b[0m \u001b[0mgradf\u001b[0m \u001b[1;33m=\u001b[0m \u001b[1;32mlambda\u001b[0m \u001b[0mx\u001b[0m\u001b[1;33m,\u001b[0m \u001b[0mi\u001b[0m\u001b[1;33m=\u001b[0m\u001b[1;32mNone\u001b[0m \u001b[1;33m:\u001b[0m \u001b[0mnp\u001b[0m\u001b[1;33m.\u001b[0m\u001b[0mdot\u001b[0m\u001b[1;33m(\u001b[0m\u001b[0mA\u001b[0m\u001b[1;33m.\u001b[0m\u001b[0mT\u001b[0m\u001b[1;33m,\u001b[0m \u001b[0mnp\u001b[0m\u001b[1;33m.\u001b[0m\u001b[0mdot\u001b[0m\u001b[1;33m(\u001b[0m\u001b[0mA\u001b[0m\u001b[1;33m,\u001b[0m\u001b[0mx\u001b[0m\u001b[1;33m)\u001b[0m \u001b[1;33m-\u001b[0m \u001b[0mb\u001b[0m\u001b[1;33m)\u001b[0m \u001b[1;32mif\u001b[0m \u001b[0mi\u001b[0m \u001b[1;33m==\u001b[0m \u001b[1;32mNone\u001b[0m \u001b[1;32melse\u001b[0m \u001b[0mA\u001b[0m\u001b[1;33m[\u001b[0m\u001b[0mi\u001b[0m\u001b[1;33m,\u001b[0m\u001b[1;33m:\u001b[0m\u001b[1;33m]\u001b[0m \u001b[1;33m*\u001b[0m \u001b[1;33m(\u001b[0m\u001b[0mnp\u001b[0m\u001b[1;33m.\u001b[0m\u001b[0mdot\u001b[0m\u001b[1;33m(\u001b[0m\u001b[0mA\u001b[0m\u001b[1;33m[\u001b[0m\u001b[0mi\u001b[0m\u001b[1;33m,\u001b[0m\u001b[1;33m:\u001b[0m\u001b[1;33m]\u001b[0m\u001b[1;33m,\u001b[0m\u001b[0mx\u001b[0m\u001b[1;33m)\u001b[0m\u001b[1;33m-\u001b[0m\u001b[0mb\u001b[0m\u001b[1;33m[\u001b[0m\u001b[0mi\u001b[0m\u001b[1;33m]\u001b[0m\u001b[1;33m)\u001b[0m\u001b[1;33m\u001b[0m\u001b[0m\n\u001b[0;32m      3\u001b[0m \u001b[0mprox\u001b[0m  \u001b[1;33m=\u001b[0m \u001b[1;32mlambda\u001b[0m \u001b[0mx\u001b[0m\u001b[1;33m,\u001b[0m \u001b[0mgamma\u001b[0m\u001b[1;33m=\u001b[0m\u001b[1;32mNone\u001b[0m\u001b[1;33m:\u001b[0m \u001b[0mx\u001b[0m\u001b[1;33m\u001b[0m\u001b[0m\n",
      "\u001b[1;31mKeyboardInterrupt\u001b[0m: "
     ]
    }
   ],
   "source": [
    "x, info = SAGA(A, b, fx, gradf, prox, parameter)"
   ]
  },
  {
   "cell_type": "code",
   "execution_count": 34,
   "metadata": {
    "collapsed": true
   },
   "outputs": [],
   "source": [
    "x = np.random.normal(0,1,10)"
   ]
  },
  {
   "cell_type": "code",
   "execution_count": 35,
   "metadata": {
    "collapsed": false
   },
   "outputs": [
    {
     "data": {
      "text/plain": [
       "array([ 0.15948377, -1.18945244,  0.60642859, -0.2723193 , -0.68921355,\n",
       "        0.25135357,  1.13242419, -0.53999769, -0.70894418, -1.42978669])"
      ]
     },
     "execution_count": 35,
     "metadata": {},
     "output_type": "execute_result"
    }
   ],
   "source": [
    "x"
   ]
  },
  {
   "cell_type": "code",
   "execution_count": 40,
   "metadata": {
    "collapsed": false
   },
   "outputs": [
    {
     "data": {
      "text/plain": [
       "0.3664467077115009"
      ]
     },
     "execution_count": 40,
     "metadata": {},
     "output_type": "execute_result"
    }
   ],
   "source": [
    "np.linalg.norm(x / np.linalg.norm(x,1),2)"
   ]
  },
  {
   "cell_type": "code",
   "execution_count": 37,
   "metadata": {
    "collapsed": false
   },
   "outputs": [
    {
     "data": {
      "text/plain": [
       "2.5575796021610731"
      ]
     },
     "execution_count": 37,
     "metadata": {},
     "output_type": "execute_result"
    }
   ],
   "source": [
    "np.linalg.norm(x,2)"
   ]
  },
  {
   "cell_type": "code",
   "execution_count": null,
   "metadata": {
    "collapsed": true
   },
   "outputs": [],
   "source": []
  }
 ],
 "metadata": {
  "kernelspec": {
   "display_name": "Python 3",
   "language": "python",
   "name": "python3"
  },
  "language_info": {
   "codemirror_mode": {
    "name": "ipython",
    "version": 3
   },
   "file_extension": ".py",
   "mimetype": "text/x-python",
   "name": "python",
   "nbconvert_exporter": "python",
   "pygments_lexer": "ipython3",
   "version": "3.5.1"
  }
 },
 "nbformat": 4,
 "nbformat_minor": 0
}
