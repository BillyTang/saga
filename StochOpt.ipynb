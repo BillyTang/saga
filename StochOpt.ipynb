{
 "cells": [
  {
   "cell_type": "code",
   "execution_count": 13,
   "metadata": {
    "collapsed": false
   },
   "outputs": [],
   "source": [
    "import numpy as np\n",
    "import time\n",
    "import matplotlib.pyplot as plt\n",
    "%matplotlib inline"
   ]
  },
  {
   "cell_type": "code",
   "execution_count": 36,
   "metadata": {
    "collapsed": false
   },
   "outputs": [
    {
     "data": {
      "text/plain": [
       "array([1, 1])"
      ]
     },
     "execution_count": 36,
     "metadata": {},
     "output_type": "execute_result"
    }
   ],
   "source": [
    "info = dict()\n",
    "info['iter_time'] = []\n",
    "a = 1\n",
    "info['iter_time'].append(a)\n",
    "b = 4\n",
    "info['iter_time'].append(b)\n",
    "try:    x = parameter['x0']\n",
    "except: x = np.zeros(10)\n",
    "x = range(0,10)\n",
    "x = np.array([1,2,3])\n",
    "y = np.kron(np.ones((5,1)), x)\n",
    "tmp = np.array([[4,5],[6,7]])\n",
    "y[1:3,1:3] = tmp.T\n",
    "a =np.abs(np.array([1,2])-np.array([2,1]))\n",
    "a"
   ]
  },
  {
   "cell_type": "code",
   "execution_count": 39,
   "metadata": {
    "collapsed": false
   },
   "outputs": [],
   "source": [
    "def SAGA(fx, gradf, prox, parameter):\n",
    "    # Parameter setting\n",
    "    n            = parameter['n']                   # Number of observations\n",
    "    d            = parameter['d']                   # Decision variable dimension\n",
    "    epoch_max    = parameter['epoch_max']           # Max epoch number\n",
    "    gamma        = parameter['gamma']               # Learning rate\n",
    "    tol          = parameter['tol']                 # convergence tolerance\n",
    "    try:    \n",
    "        x        = parameter['x0']                  # Initial condition\n",
    "    except: \n",
    "        x        = np.zeros(d)\n",
    "    try:\n",
    "        use_perm = parameter['perm']                # if true use permutation; otherwise use randomization\n",
    "    except:\n",
    "        use_perm = True\n",
    "    # Output initialization    \n",
    "    info              = dict()\n",
    "    info['epoch_max'] = []\n",
    "    info['fx']        = []\n",
    "    # Initialization\n",
    "    gx       = gdraf(x)\n",
    "    g_phi    = np.kron(np.ones((n,1)), gx)\n",
    "    g_phi_av = gx\n",
    "    flag     = True\n",
    "    for epoch in range(epoch_max):        \n",
    "        if not flag: break\n",
    "        perm = np.random.permutation(n)\n",
    "        for j in range(n):\n",
    "            t = time.time()\n",
    "            if epoch == 0:\n",
    "                i = j\n",
    "            else:\n",
    "                if use_perm:\n",
    "                    if epoch % 2 == 0:\n",
    "                        i = j \n",
    "                    else:\n",
    "                        i = perm[j]\n",
    "                else:\n",
    "                    i = np.random.randint(0, n)\n",
    "            # Update the next iteration\n",
    "            gx         = gradf(x)\n",
    "            w_next     = x - gamma * (gx - g_phi[i,:] + g_phi_av)\n",
    "            g_phi_av   = g_phi_av - g_phi[i,:] / n + gx / n\n",
    "            g_phi[i,:] = gx             \n",
    "            x_next     = prox(w_next, gamma)\n",
    "            # Save information\n",
    "            info['iter_time'].append = time.time() - t\n",
    "            info['fx'].append        = fx(x) \n",
    "            # Check optimality condition\n",
    "            if np.abs(fx(x_next)-fx(x)) <= tol:\n",
    "                flag = False\n",
    "                break\n",
    "            # Prepare the next iteration\n",
    "            x = x_next             \n",
    "    info['epoch'] = epoch    \n",
    "    return (x, info)"
   ]
  },
  {
   "cell_type": "code",
   "execution_count": 40,
   "metadata": {
    "collapsed": true
   },
   "outputs": [],
   "source": [
    "def SAG(fx, gradf, prox, parameter):\n",
    "    # Parameter setting\n",
    "    n            = parameter['n']                   # Number of observations\n",
    "    d            = parameter['d']                   # Decision variable dimension\n",
    "    epoch_max    = parameter['epoch_max']           # Max epoch number\n",
    "    gamma        = parameter['gamma']               # Learning rate\n",
    "    tol          = parameter['tol']                 # convergence tolerance\n",
    "    try:    \n",
    "        x        = parameter['x0']                  # Initial condition\n",
    "    except: \n",
    "        x        = np.zeros(d)\n",
    "    try:\n",
    "        use_perm = parameter['perm']                # if true use permutation; otherwise use randomization\n",
    "    except:\n",
    "        use_perm = True\n",
    "    # Output initialization    \n",
    "    info              = dict()\n",
    "    info['epoch_max'] = []\n",
    "    info['fx']        = []\n",
    "    # Initialization\n",
    "    gx        = gdraf(x)\n",
    "    g_phi     = np.kron(np.ones((n,1)), gx)\n",
    "    g_phi_sum = n * gx\n",
    "    flag      = True\n",
    "    for epoch in range(epoch_max):        \n",
    "        if not flag: break\n",
    "        perm = np.random.permutation(n)\n",
    "        for j in range(n):\n",
    "            t = time.time()\n",
    "            if epoch == 0:\n",
    "                i = j\n",
    "            else:\n",
    "                if use_perm:\n",
    "                    if epoch % 2 == 0:\n",
    "                        i = j \n",
    "                    else:\n",
    "                        i = perm[j]\n",
    "                else:\n",
    "                    i = np.random.randint(0, n)\n",
    "            # Update the next iteration\n",
    "            gx         = gradf(x)\n",
    "            w_next     = x - gamma * (gx - g_phi[i,:] + g_phi_sum) / n\n",
    "            g_phi_sum  = g_phi_sum - g_phi[i,:] + gx\n",
    "            g_phi[i,:] = gx             \n",
    "            x_next     = prox(w_next, gamma)\n",
    "            # Save information\n",
    "            info['iter_time'].append = time.time() - t\n",
    "            info['fx'].append        = fx(x) \n",
    "            # Check optimality condition\n",
    "            if np.abs(fx(x_next)-fx(x)) <= tol:\n",
    "                flag = False\n",
    "                break\n",
    "            # Prepare the next iteration\n",
    "            x = x_next             \n",
    "    info['epoch'] = epoch    \n",
    "    return (x, info)"
   ]
  },
  {
   "cell_type": "code",
   "execution_count": null,
   "metadata": {
    "collapsed": true
   },
   "outputs": [],
   "source": []
  },
  {
   "cell_type": "code",
   "execution_count": null,
   "metadata": {
    "collapsed": true
   },
   "outputs": [],
   "source": []
  }
 ],
 "metadata": {
  "kernelspec": {
   "display_name": "Python 3",
   "language": "python",
   "name": "python3"
  },
  "language_info": {
   "codemirror_mode": {
    "name": "ipython",
    "version": 3
   },
   "file_extension": ".py",
   "mimetype": "text/x-python",
   "name": "python",
   "nbconvert_exporter": "python",
   "pygments_lexer": "ipython3",
   "version": "3.5.1"
  }
 },
 "nbformat": 4,
 "nbformat_minor": 0
}
