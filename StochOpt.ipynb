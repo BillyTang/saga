{
 "cells": [
  {
   "cell_type": "code",
   "execution_count": 13,
   "metadata": {
    "collapsed": false
   },
   "outputs": [],
   "source": [
    "import numpy as np\n",
    "import time\n",
    "import matplotlib.pyplot as plt\n",
    "%matplotlib inline"
   ]
  },
  {
   "cell_type": "code",
   "execution_count": 16,
   "metadata": {
    "collapsed": false
   },
   "outputs": [
    {
     "data": {
      "text/plain": [
       "range(0, 10)"
      ]
     },
     "execution_count": 16,
     "metadata": {},
     "output_type": "execute_result"
    }
   ],
   "source": [
    "info = dict()\n",
    "info['iter_time'] = []\n",
    "a = 1\n",
    "info['iter_time'].append(a)\n",
    "b = 4\n",
    "info['iter_time'].append(b)\n",
    "try:    x = parameter['x0']\n",
    "except: x = np.zeros(10)\n",
    "x = range(0,10)\n",
    "x"
   ]
  },
  {
   "cell_type": "code",
   "execution_count": null,
   "metadata": {
    "collapsed": true
   },
   "outputs": [],
   "source": [
    "def [x, info] = SAGA(fx, gradf, parameter):\n",
    "    \n",
    "    n         = parameter['n']                   # Decision variable dimension\n",
    "    iter_mex  = parameter['iter_max']            # Max iteration number\n",
    "    gamma     = parameter['gamma']               # Learning rate\n",
    "    try:    x = parameter['x0']                  # Initial condition\n",
    "    except: x = np.zeros(n)\n",
    "    \n",
    "    info              = dict()\n",
    "    info['iter_time'] = []\n",
    "    info['fx']        = []\n",
    "    \n",
    "    for epoch in range(iter_max):\n",
    "        t = time.time()\n",
    "        for j in range(n):\n",
    "            if epoch == 0: i = j\n",
    "            else:          i = np.random.randint(0,n)\n",
    "            x_next = x - gamma()\n",
    "\n",
    "            info['iter_time'].append = time.time() - t\n",
    "            info['fx'].append        = fx(x)        \n",
    "\n",
    "            x = x_next\n",
    "    \n",
    "    info['iter'] = it;\n",
    "def SGD():\n",
    "    \n",
    "def SVRG():\n",
    "    \n",
    "def SAG():\n",
    "    "
   ]
  }
 ],
 "metadata": {
  "kernelspec": {
   "display_name": "Python 3",
   "language": "python",
   "name": "python3"
  },
  "language_info": {
   "codemirror_mode": {
    "name": "ipython",
    "version": 3
   },
   "file_extension": ".py",
   "mimetype": "text/x-python",
   "name": "python",
   "nbconvert_exporter": "python",
   "pygments_lexer": "ipython3",
   "version": "3.5.1"
  }
 },
 "nbformat": 4,
 "nbformat_minor": 0
}
